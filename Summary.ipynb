{
 "cells": [
  {
   "cell_type": "markdown",
   "metadata": {},
   "source": [
    "# COLD GASS CO Luminosity Plot\n",
    "\n",
    "The total CO luminosity $L'_{CO}$ of each galaxy can be calculated as follows:\n",
    "\n",
    "$L'_{CO}=3.25 \\times 10^{7} S_{CO,cor} \\nu_{obs}^{-2} D_{L}^{2} (1+z)^{-3}$\n",
    "\n",
    "Where $S_{CO,cor}$ is the integrated line flux Jykm/s, $\\nu_{obs}$ is the observed frequency of the CO(1-0) line ($\\approx 111~GHz$), $z$ is the redshift and $D_{L}$ is the luminosity distance in units of Mpc.\n",
    "\n",
    "The luminosity distance can be calclated using the comoving distance.\n",
    "\n",
    "$D_{L}=(1+z)D_{m}$\n",
    "\n",
    "If $\\Omega_{k}=0$ then $D_{m}=D_{c}=D_{H}\\int_{0}^{z} \\frac{dz'}{E(z')}$\n",
    "\n",
    "Where $D_{c}=\\frac{c}{H_{0}}$ \n",
    "\n",
    "And $E(z)=\\sqrt{\\Omega_{m}(1+z)^{3}+\\Omega_{k}(1+z)^{2}+\\Omega_{\\Lambda}}$\n",
    "\n",
    "From the Planck 2015 results we have $\\Omega_{m}=0.31$, $\\Omega_{\\Lambda}=0.69$ and $\\Omega_{k}=0$. So this leads to the final expression for the luminosity distance.\n",
    "\n",
    "$D_{L}=\\frac{c}{H_{0}}\\int_{0}^{z}\\frac{dz'}{\\sqrt{\\Omega_{m}(1+z)^{3}+\\Omega_{\\Lambda}}}$"
   ]
  },
  {
   "cell_type": "markdown",
   "metadata": {},
   "source": [
    "## The Code\n",
    "\n",
    "import the dependecies"
   ]
  },
  {
   "cell_type": "code",
   "execution_count": 1,
   "metadata": {
    "collapsed": false
   },
   "outputs": [],
   "source": [
    "import numpy as np\n",
    "import atpy\n",
    "import math\n",
    "from scipy import integrate\n",
    "import matplotlib.pyplot as plt\n",
    "import asciidata"
   ]
  },
  {
   "cell_type": "markdown",
   "metadata": {},
   "source": [
    "Function to calculate the luminosity distance."
   ]
  },
  {
   "cell_type": "code",
   "execution_count": 2,
   "metadata": {
    "collapsed": true
   },
   "outputs": [],
   "source": [
    "def lumdistance(z):\n",
    "    omega_m = 0.31                          # from Planck\n",
    "    omega_l = 0.69                          # from Planck\n",
    "    c = 3*math.pow(10,5)                    # in km/s\n",
    "    Ho = 70                                 # in km/(s Mpc)\n",
    "    f = lambda x : (((omega_m*((1+z)**3))+omega_l)**-0.5)\n",
    "    integral = integrate.quad(f, 0.0, z)    # numerically integrate to calculate luminosity distance\n",
    "    Dm = (c/Ho)*integral[0]\n",
    "    Dl = (1+z)*Dm                           # calculate luminosity distance\n",
    "    DH = (c*z)/Ho                           # calculate distance from Hubble law for comparison\n",
    "    return Dl, DH"
   ]
  },
  {
   "cell_type": "markdown",
   "metadata": {},
   "source": [
    "Function to calculate the Luminosity using the first equation and using the factor of 6.0 if the low mass galaxies are used."
   ]
  },
  {
   "cell_type": "code",
   "execution_count": 3,
   "metadata": {
    "collapsed": true
   },
   "outputs": [],
   "source": [
    "def lCalc(SCO, z, correction):\n",
    "    lums = []\n",
    "    for i in range(0,len(SCO)):                              # for each galaxy in the dataset\n",
    "        if correction == True:\n",
    "            SCO_cor = SCO[i]*6.0                      # find the integrated CO flux\n",
    "        else:\n",
    "            SCO_cor = SCO[i]\n",
    "        C = 3.25*math.pow(10,7)                 # numerical const from eqn 4 paper 1\n",
    "        freq = 111                              # observing frequency\n",
    "        Dl, DH = lumdistance(z[i])           # luminosity distance\n",
    "        SDSS_z = math.pow((1+z[i]),-3)       # redshift component\n",
    "        L_CO = C*SCO_cor*((Dl*Dl)/(freq*freq))*SDSS_z   # calculate CO luminosity\n",
    "        lums.append(L_CO)\n",
    "    return lums"
   ]
  },
  {
   "cell_type": "markdown",
   "metadata": {},
   "source": [
    "Function to remove non-detections from the sample"
   ]
  },
  {
   "cell_type": "code",
   "execution_count": 4,
   "metadata": {
    "collapsed": true
   },
   "outputs": [],
   "source": [
    "def NonDetect(data, flag):\n",
    "    datanew = []\n",
    "    for i in range (0,len(data)):\n",
    "        if flag[i] == 1:\n",
    "            datanew.append(data[i])\n",
    "    return datanew"
   ]
  },
  {
   "cell_type": "markdown",
   "metadata": {},
   "source": [
    "Function to sort the luminosity into number bins in logspace."
   ]
  },
  {
   "cell_type": "code",
   "execution_count": 5,
   "metadata": {
    "collapsed": true
   },
   "outputs": [],
   "source": [
    "def sortIntoBins(l):\n",
    "    low = min(l)\n",
    "    high = max(l)     # min max in logspace\n",
    "    bins = np.linspace(low, high,num=15) # log-spaced bins\n",
    "    N = []\n",
    "    xbins = []\n",
    "    for i in range (1,len(bins)):\n",
    "        inbin = [x for x in l if x > bins[i-1] and x < bins[i]]\n",
    "        n = len(inbin)\n",
    "        N.append(n)\n",
    "        N.append(n)\n",
    "        xbins.append(bins[i-1])\n",
    "        xbins.append(bins[i])\n",
    "    return np.log10(N), xbins"
   ]
  },
  {
   "cell_type": "markdown",
   "metadata": {},
   "source": [
    "Read data and sort into the bins"
   ]
  },
  {
   "cell_type": "code",
   "execution_count": 6,
   "metadata": {
    "collapsed": false
   },
   "outputs": [
    {
     "name": "stdout",
     "output_type": "stream",
     "text": [
      "Auto-detected table type: fits\n"
     ]
    },
    {
     "name": "stderr",
     "output_type": "stream",
     "text": [
      "/usr/local/lib/python2.7/dist-packages/ipykernel/__main__.py:14: RuntimeWarning: divide by zero encountered in log10\n"
     ]
    }
   ],
   "source": [
    "highM = atpy.Table('COLDGASS_DR3.fits')         # read web data from table\n",
    "lowM = asciidata.open('COLDGASS_LOW_29Sep15.ascii')\n",
    "\n",
    "SCOH, zH = [], []\n",
    "for rows in highM:                              # for each galaxy in the dataset\n",
    "    SCOH.append(rows[15])                      # find the integrated CO flux\n",
    "    zH.append(rows[4])\n",
    "SCOL, zL, flagL = list(lowM[11]), list(lowM[3]), list(lowM[15])\n",
    "lumsnew = list(lowM[12])\n",
    "lumsnew = NonDetect(lumsnew, flagL)\n",
    "SCOL, zL = NonDetect(SCOL, flagL), NonDetect(zL, flagL)\n",
    "L = lCalc([0.49],[0.01711],True)\n",
    "B = lCalc([SCOL[0]],[zL[0]],True)\n",
    "\n",
    "lumsH = lCalc(SCOH,zH,False)\n",
    "lumsL = lCalc(SCOL,zL,True)\n",
    "\n",
    "lumsL = [i for i in lumsL if i > 0.0]         # remove 0 detected CO flux galaxies\n",
    "lumsH = [i for i in lumsH if i > 0.0]         # remove 0 detected CO flux galaxies\n",
    "lumsL, lumsH = np.log10(lumsL), np.log10(lumsH)\n",
    "combined = np.append(lumsL, lumsH)\n",
    "\n",
    "NL, midL = sortIntoBins(lumsL)\n",
    "NH, midH = sortIntoBins(lumsH)\n",
    "NC, midC = sortIntoBins(combined)\n",
    "NR, midR = sortIntoBins(lumsnew)"
   ]
  },
  {
   "cell_type": "markdown",
   "metadata": {},
   "source": [
    "Plot the data using matplotlib."
   ]
  },
  {
   "cell_type": "code",
   "execution_count": 7,
   "metadata": {
    "collapsed": false
   },
   "outputs": [
    {
     "data": {
      "image/png": "[encoded data removed]",
      "text/plain": [
       "<matplotlib.figure.Figure at 0x7ffb0990b250>"
      ]
     },
     "metadata": {},
     "output_type": "display_data"
    }
   ],
   "source": [
    "%matplotlib inline\n",
    "plt.plot(midL,NL,'b-', label = 'Low mass')\n",
    "plt.plot(midH,NH,'r-', label = 'high mass')\n",
    "plt.plot(midC,NC,'g-', label = 'combined')\n",
    "plt.plot(midR,NR,'k-', label = 'Pre-calc')\n",
    "plt.xlabel('log_10(L_CO)')\n",
    "plt.ylabel('log_10(N)')\n",
    "plt.title('CO Luminosity')\n",
    "plt.legend()\n",
    "plt.savefig('lum.png')\n",
    "plt.show()"
   ]
  },
  {
   "cell_type": "markdown",
   "metadata": {
    "collapsed": true
   },
   "source": [
    "## MHI"
   ]
  },
  {
   "cell_type": "markdown",
   "metadata": {
    "collapsed": true
   },
   "source": [
    "## MH2"
   ]
  },
  {
   "cell_type": "markdown",
   "metadata": {},
   "source": [
    "## Correct Our Sample by weighting ratio vs SDSS"
   ]
  },
  {
   "cell_type": "markdown",
   "metadata": {},
   "source": [
    "## Units of gas mass -> Proper Units and Schecter Function Fit"
   ]
  },
  {
   "cell_type": "markdown",
   "metadata": {},
   "source": [
    "## OMEGA H2 (integrate under mass function curve)"
   ]
  }
 ],
 "metadata": {
  "kernelspec": {
   "display_name": "Python 2",
   "language": "python",
   "name": "python2"
  },
  "language_info": {
   "codemirror_mode": {
    "name": "ipython",
    "version": 2
   },
   "file_extension": ".py",
   "mimetype": "text/x-python",
   "name": "python",
   "nbconvert_exporter": "python",
   "pygments_lexer": "ipython2",
   "version": "2.7.6"
  }
 },
 "nbformat": 4,
 "nbformat_minor": 0
}
